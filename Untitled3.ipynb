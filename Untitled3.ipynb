{
  "nbformat": 4,
  "nbformat_minor": 0,
  "metadata": {
    "colab": {
      "name": "Untitled3.ipynb",
      "provenance": [],
      "authorship_tag": "ABX9TyOcY/yrOT7/HaFQtSnvDDDg",
      "include_colab_link": true
    },
    "kernelspec": {
      "name": "python3",
      "display_name": "Python 3"
    },
    "language_info": {
      "name": "python"
    }
  },
  "cells": [
    {
      "cell_type": "markdown",
      "metadata": {
        "id": "view-in-github",
        "colab_type": "text"
      },
      "source": [
        "<a href=\"https://colab.research.google.com/github/Harshkumar62367/ml/blob/main/Untitled3.ipynb\" target=\"_parent\"><img src=\"https://colab.research.google.com/assets/colab-badge.svg\" alt=\"Open In Colab\"/></a>"
      ]
    },
    {
      "cell_type": "code",
      "execution_count": 1,
      "metadata": {
        "colab": {
          "base_uri": "https://localhost:8080/"
        },
        "id": "8xs3igzlOANI",
        "outputId": "d1b03673-fdfd-4f73-8cee-6805044f2afa"
      },
      "outputs": [
        {
          "output_type": "stream",
          "name": "stdout",
          "text": [
            "Input your guess number: 9\n",
            "The guess is too low!\n",
            "Input your guess number: 20\n",
            "The guess is too high!\n",
            "Input your guess number: 16\n",
            "The guess is too high!\n",
            "Input your guess number: 13\n",
            "The guess is too high!\n",
            "Input your guess number: 11\n",
            "You got it!\n",
            "You guessed the following numbers:  [9, 20, 16, 13, 11]\n"
          ]
        }
      ],
      "source": [
        "import random\n",
        "rand_number = random.randrange(1,21,1)\n",
        "list_of_guesses = []\n",
        "while True:\n",
        "  guess = int(input(\"Input your guess number: \")) ;\n",
        "  list_of_guesses.append(guess)\n",
        "  if guess > rand_number:\n",
        "    print(\"The guess is too high!\")\n",
        "  elif guess < rand_number:\n",
        "    print(\"The guess is too low!\");\n",
        "  else:\n",
        "    print(\"You got it!\");\n",
        "    break;\n",
        "print (\"You guessed the following numbers: \", list_of_guesses)"
      ]
    }
  ]
}