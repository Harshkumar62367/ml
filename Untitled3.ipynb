{
  "nbformat": 4,
  "nbformat_minor": 0,
  "metadata": {
    "colab": {
      "name": "Untitled3.ipynb",
      "provenance": [],
      "authorship_tag": "ABX9TyM/kFxIRD3CgV7K+3a8cbzk",
      "include_colab_link": true
    },
    "kernelspec": {
      "name": "python3",
      "display_name": "Python 3"
    },
    "language_info": {
      "name": "python"
    }
  },
  "cells": [
    {
      "cell_type": "markdown",
      "metadata": {
        "id": "view-in-github",
        "colab_type": "text"
      },
      "source": [
        "<a href=\"https://colab.research.google.com/github/Harshkumar62367/ml/blob/main/Untitled3.ipynb\" target=\"_parent\"><img src=\"https://colab.research.google.com/assets/colab-badge.svg\" alt=\"Open In Colab\"/></a>"
      ]
    },
    {
      "cell_type": "code",
      "execution_count": 2,
      "metadata": {
        "colab": {
          "base_uri": "https://localhost:8080/"
        },
        "id": "8xs3igzlOANI",
        "outputId": "8b5281a1-37b9-4ab7-a032-5e2aa51d178d"
      },
      "outputs": [
        {
          "output_type": "stream",
          "name": "stdout",
          "text": [
            "Input your guess number: 8\n",
            "The guess is too low!\n",
            "Input your guess number: 15\n",
            "The guess is too high!\n",
            "Input your guess number: 12\n",
            "You got it!\n"
          ]
        }
      ],
      "source": [
        "import random\n",
        "rand_number = random.randrange(1,21,1)\n",
        "while True:\n",
        "  guess = int(input(\"Input your guess number: \")) ;\n",
        "  if guess > rand_number:\n",
        "    print(\"The guess is too high!\")\n",
        "  elif guess < rand_number:\n",
        "    print(\"The guess is too low!\");\n",
        "  else:\n",
        "    print(\"You got it!\");\n",
        "    break;"
      ]
    }
  ]
}