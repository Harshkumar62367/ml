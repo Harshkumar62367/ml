{
  "nbformat": 4,
  "nbformat_minor": 0,
  "metadata": {
    "colab": {
      "name": "Untitled2.ipynb",
      "provenance": [],
      "authorship_tag": "ABX9TyNgp1Dj4HZxaC9j8oUyn3w2",
      "include_colab_link": true
    },
    "kernelspec": {
      "name": "python3",
      "display_name": "Python 3"
    },
    "language_info": {
      "name": "python"
    }
  },
  "cells": [
    {
      "cell_type": "markdown",
      "metadata": {
        "id": "view-in-github",
        "colab_type": "text"
      },
      "source": [
        "<a href=\"https://colab.research.google.com/github/Harshkumar62367/ml/blob/main/Untitled2.ipynb\" target=\"_parent\"><img src=\"https://colab.research.google.com/assets/colab-badge.svg\" alt=\"Open In Colab\"/></a>"
      ]
    },
    {
      "cell_type": "code",
      "execution_count": 6,
      "metadata": {
        "colab": {
          "base_uri": "https://localhost:8080/"
        },
        "id": "KOMFcVhe_7g9",
        "outputId": "bbce26ae-c1ea-4736-d134-bfc139a1dca6"
      },
      "outputs": [
        {
          "output_type": "stream",
          "name": "stdout",
          "text": [
            "Hello world!\n",
            "My name is John\n",
            "I was born in 2001\n",
            "I have 2 quotes in me.\n"
          ]
        }
      ],
      "source": [
        "class Person:\n",
        "    def __init__(self, name, age):\n",
        "        self.name = name\n",
        "        self.age = age\n",
        "        self.favorite_quotes = []\n",
        "    def say_hello(self):\n",
        "        print(\"Hello world!\")\n",
        "    def say_name(self):\n",
        "        print(\"My name is {}\".format(self.name))\n",
        "    def say_age(self):\n",
        "        print(\"I was born in {}\".format(2022-self.age))\n",
        "    def add_quote(self, quote):\n",
        "        self.favorite_quotes.append(quote)\n",
        "    def count_quotes(self):\n",
        "        print(\"I have {} quotes in me.\".format(len(self.favorite_quotes)))\n",
        "stackup_test = Person(\"John\", 21)\n",
        "stackup_test.say_hello()\n",
        "stackup_test.say_name()\n",
        "stackup_test.say_age()\n",
        "stackup_test.add_quote(\"This is quote 1\")\n",
        "stackup_test.add_quote(\"This is quote 2\")\n",
        "stackup_test.count_quotes()"
      ]
    },
    {
      "cell_type": "code",
      "source": [
        ""
      ],
      "metadata": {
        "id": "NeGqvBXPAd3k"
      },
      "execution_count": null,
      "outputs": []
    }
  ]
}